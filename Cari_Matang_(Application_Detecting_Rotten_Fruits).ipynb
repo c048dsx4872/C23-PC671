{
  "cells": [
    {
      "cell_type": "markdown",
      "metadata": {
        "id": "jcWiSRbMDEUQ"
      },
      "source": [
        "**CAPSTONE BANGKIT 2023**\n",
        "\n",
        "**Cari Matang (Application Detecting Rotten Fruits)**\n"
      ]
    },
    {
      "cell_type": "markdown",
      "metadata": {
        "id": "JX2rGZJFEUI-"
      },
      "source": [
        "### Connect Google Drive\n",
        "\n"
      ]
    },
    {
      "cell_type": "markdown",
      "source": [
        "Link Dataset\n",
        "https://www.kaggle.com/datasets/sriramr/fruits-fresh-and-rotten-for-classification"
      ],
      "metadata": {
        "id": "JZlwwuUYZ--A"
      }
    },
    {
      "cell_type": "code",
      "execution_count": null,
      "metadata": {
        "colab": {
          "base_uri": "https://localhost:8080/"
        },
        "id": "BDcwEHufYx_9",
        "outputId": "dd643e41-950d-438b-a873-1062188d1d71"
      },
      "outputs": [
        {
          "name": "stdout",
          "output_type": "stream",
          "text": [
            "2.12.0\n"
          ]
        }
      ],
      "source": [
        "import tensorflow as tf\n",
        "print(tf. __version__)"
      ]
    },
    {
      "cell_type": "code",
      "execution_count": null,
      "metadata": {
        "colab": {
          "base_uri": "https://localhost:8080/"
        },
        "id": "ecMovaMGETBW",
        "outputId": "aa5bb957-517c-4829-8edf-c3bf47a94bd5"
      },
      "outputs": [
        {
          "name": "stdout",
          "output_type": "stream",
          "text": [
            "Mounted at /content/drive\n"
          ]
        }
      ],
      "source": [
        "from google.colab import drive\n",
        "drive.mount('/content/drive')"
      ]
    },
    {
      "cell_type": "markdown",
      "metadata": {
        "id": "GPrq_2V9FIk_"
      },
      "source": [
        "### Accessing directory dataset\n"
      ]
    },
    {
      "cell_type": "code",
      "execution_count": null,
      "metadata": {
        "colab": {
          "base_uri": "https://localhost:8080/"
        },
        "id": "Tji_a9Y6FQd3",
        "outputId": "f9753b00-fbfa-4c20-fac6-d2f8e7e04c01"
      },
      "outputs": [
        {
          "output_type": "stream",
          "name": "stdout",
          "text": [
            "total training fresh apples images : 1693\n",
            "total training fresh banana images : 1581\n",
            "total training fresh oranges images: 1476\n",
            "total training rotten apples images: 2342\n",
            "total training rotten banana images: 2224\n",
            "total training rotten oranges images: 1595\n",
            "['rotated_by_45_Screen Shot 2018-06-08 at 5.01.08 PM.png', 'rotated_by_45_Screen Shot 2018-06-08 at 5.20.42 PM.png', 'rotated_by_45_Screen Shot 2018-06-08 at 5.01.01 PM.png', 'rotated_by_45_Screen Shot 2018-06-08 at 5.04.24 PM.png', 'rotated_by_45_Screen Shot 2018-06-08 at 5.12.34 PM.png', 'rotated_by_45_Screen Shot 2018-06-08 at 5.10.03 PM.png', 'rotated_by_45_Screen Shot 2018-06-08 at 5.18.12 PM.png', 'rotated_by_45_Screen Shot 2018-06-08 at 5.14.56 PM.png', 'rotated_by_45_Screen Shot 2018-06-08 at 4.59.44 PM.png', 'rotated_by_45_Screen Shot 2018-06-08 at 5.08.05 PM.png']\n",
            "['rotated_by_45_Screen Shot 2018-06-12 at 9.49.54 PM.png', 'rotated_by_45_Screen Shot 2018-06-12 at 9.43.32 PM.png', 'rotated_by_45_Screen Shot 2018-06-12 at 9.45.34 PM.png', 'rotated_by_30_Screen Shot 2018-06-12 at 9.57.38 PM.png', 'rotated_by_30_Screen Shot 2018-06-12 at 9.57.42 PM.png', 'rotated_by_45_Screen Shot 2018-06-12 at 9.53.51 PM.png', 'rotated_by_45_Screen Shot 2018-06-12 at 10.01.37 PM.png', 'rotated_by_45_Screen Shot 2018-06-12 at 9.50.16 PM.png', 'rotated_by_45_Screen Shot 2018-06-12 at 9.45.46 PM.png', 'rotated_by_45_Screen Shot 2018-06-12 at 9.43.59 PM.png']\n",
            "['rotated_by_30_Screen Shot 2018-06-12 at 11.53.22 PM.png', 'rotated_by_30_Screen Shot 2018-06-13 at 12.00.43 AM.png', 'rotated_by_30_Screen Shot 2018-06-13 at 12.10.53 AM.png', 'rotated_by_30_Screen Shot 2018-06-13 at 12.02.05 AM.png', 'rotated_by_30_Screen Shot 2018-06-13 at 12.11.10 AM.png', 'rotated_by_30_Screen Shot 2018-06-13 at 12.00.06 AM.png', 'rotated_by_30_Screen Shot 2018-06-13 at 12.14.32 AM.png', 'rotated_by_30_Screen Shot 2018-06-13 at 12.18.52 AM.png', 'rotated_by_30_Screen Shot 2018-06-13 at 12.01.36 AM.png', 'rotated_by_30_Screen Shot 2018-06-13 at 12.07.05 AM.png']\n",
            "['rotated_by_75_Screen Shot 2018-06-07 at 2.51.08 PM.png', 'rotated_by_75_Screen Shot 2018-06-08 at 2.28.07 PM.png', 'rotated_by_75_Screen Shot 2018-06-08 at 2.26.34 PM.png', 'rotated_by_75_Screen Shot 2018-06-07 at 2.59.38 PM.png', 'rotated_by_75_Screen Shot 2018-06-07 at 3.03.38 PM.png', 'rotated_by_75_Screen Shot 2018-06-07 at 2.42.25 PM.png', 'rotated_by_75_Screen Shot 2018-06-07 at 2.43.13 PM.png', 'rotated_by_75_Screen Shot 2018-06-07 at 2.59.52 PM.png', 'rotated_by_75_Screen Shot 2018-06-08 at 2.29.10 PM.png', 'rotated_by_75_Screen Shot 2018-06-07 at 2.52.22 PM.png']\n",
            "['rotated_by_75_Screen Shot 2018-06-12 at 8.53.47 PM.png', 'rotated_by_75_Screen Shot 2018-06-12 at 8.50.15 PM.png', 'rotated_by_75_Screen Shot 2018-06-12 at 8.55.41 PM.png', 'rotated_by_60_Screen Shot 2018-06-12 at 9.27.46 PM.png', 'rotated_by_75_Screen Shot 2018-06-12 at 8.49.04 PM.png', 'rotated_by_75_Screen Shot 2018-06-12 at 8.56.49 PM.png', 'rotated_by_75_Screen Shot 2018-06-12 at 9.00.31 PM.png', 'rotated_by_75_Screen Shot 2018-06-12 at 8.58.49 PM.png', 'rotated_by_60_Screen Shot 2018-06-12 at 9.25.12 PM.png', 'rotated_by_75_Screen Shot 2018-06-12 at 8.47.28 PM.png']\n",
            "['rotated_by_45_Screen Shot 2018-06-12 at 11.21.22 PM.png', 'rotated_by_45_Screen Shot 2018-06-12 at 11.23.33 PM.png', 'rotated_by_45_Screen Shot 2018-06-12 at 11.30.35 PM.png', 'rotated_by_45_Screen Shot 2018-06-12 at 11.31.52 PM.png', 'rotated_by_45_Screen Shot 2018-06-12 at 11.32.55 PM.png', 'rotated_by_45_Screen Shot 2018-06-12 at 11.36.48 PM.png', 'rotated_by_30_Screen Shot 2018-06-12 at 11.46.10 PM.png', 'rotated_by_45_Screen Shot 2018-06-12 at 11.22.12 PM.png', 'rotated_by_45_Screen Shot 2018-06-12 at 11.25.55 PM.png', 'rotated_by_30_Screen Shot 2018-06-12 at 11.47.08 PM.png']\n"
          ]
        }
      ],
      "source": [
        "import os\n",
        "\n",
        "base_dir = '/content/drive/MyDrive/Capstone Bangkit/dataset/train'\n",
        "\n",
        "freshapples_dir = os.path.join(base_dir, 'freshapples')\n",
        "freshbanana_dir = os.path.join(base_dir, 'freshbanana')\n",
        "freshoranges_dir = os.path.join(base_dir, 'freshoranges')\n",
        "rottenapples_dir = os.path.join(base_dir, 'rottenapples')\n",
        "rottenbanana_dir = os.path.join(base_dir, 'rottenbanana')\n",
        "rottenoranges_dir = os.path.join(base_dir, 'rottenoranges')\n",
        "\n",
        "print('total training fresh apples images :', len(os.listdir(freshapples_dir)))\n",
        "print('total training fresh banana images :', len(os.listdir(freshbanana_dir)))\n",
        "print('total training fresh oranges images:', len(os.listdir(freshoranges_dir)))\n",
        "print('total training rotten apples images:', len(os.listdir(rottenapples_dir)))\n",
        "print('total training rotten banana images:', len(os.listdir(rottenbanana_dir)))\n",
        "print('total training rotten oranges images:', len(os.listdir(rottenoranges_dir)))\n",
        "\n",
        "freshapples_files = os.listdir(freshapples_dir)\n",
        "print(freshapples_files[:10])\n",
        "\n",
        "freshbanana_files = os.listdir(freshbanana_dir)\n",
        "print(freshbanana_files[:10])\n",
        "\n",
        "freshoranges_files = os.listdir(freshoranges_dir)\n",
        "print(freshoranges_files[:10])\n",
        "\n",
        "rottenapples_files = os.listdir(rottenapples_dir)\n",
        "print(rottenapples_files[:10])\n",
        "\n",
        "rottenbanana_files = os.listdir(rottenbanana_dir)\n",
        "print(rottenbanana_files[:10])\n",
        "\n",
        "rottenoranges_files = os.listdir(rottenoranges_dir)\n",
        "print(rottenoranges_files[:10])\n"
      ]
    },
    {
      "cell_type": "markdown",
      "metadata": {
        "id": "9M8MqCpUHZmI"
      },
      "source": [
        "### Showing dataset"
      ]
    },
    {
      "cell_type": "code",
      "execution_count": null,
      "metadata": {
        "id": "xwVeoaUnHdLP"
      },
      "outputs": [],
      "source": [
        "%matplotlib inline\n",
        "\n",
        "import matplotlib.pyplot as plt\n",
        "import matplotlib.image as mpimg\n",
        "\n",
        "pic_index = 2\n",
        "\n",
        "next_freshapples = [os.path.join(freshapples_dir, fname)\n",
        "                for fname in freshapples_files[pic_index-2:pic_index]]\n",
        "next_freshbanana = [os.path.join(freshbanana_dir, fname)\n",
        "                for fname in freshbanana_files[pic_index-2:pic_index]]\n",
        "next_freshoranges = [os.path.join(freshoranges_dir, fname)\n",
        "                for fname in freshoranges_files[pic_index-2:pic_index]]\n",
        "next_rottenapples = [os.path.join(rottenapples_dir, fname)\n",
        "                for fname in rottenapples_files[pic_index-2:pic_index]]\n",
        "next_rottenbanana = [os.path.join(rottenbanana_dir, fname)\n",
        "                for fname in rottenbanana_files[pic_index-2:pic_index]]\n",
        "next_rottenoranges = [os.path.join(rottenoranges_dir, fname)\n",
        "                for fname in rottenoranges_files[pic_index-2:pic_index]]\n",
        "\n",
        "\n",
        "for i, img_path in enumerate(next_freshapples+next_freshbanana+next_freshoranges+next_rottenapples+next_rottenbanana+next_rottenoranges):\n",
        "  img = mpimg.imread(img_path)\n",
        "  plt.imshow(img)\n",
        "  plt.axis('Off')\n",
        "  plt.show()"
      ]
    },
    {
      "cell_type": "markdown",
      "metadata": {
        "id": "AqjXihIbJ895"
      },
      "source": [
        "### Build the Model"
      ]
    },
    {
      "cell_type": "code",
      "execution_count": null,
      "metadata": {
        "colab": {
          "base_uri": "https://localhost:8080/"
        },
        "id": "EPqGa-i3J_uP",
        "outputId": "820b9d8f-8007-46cf-c7ae-41a0c4ab16ca"
      },
      "outputs": [
        {
          "name": "stdout",
          "output_type": "stream",
          "text": [
            "Model: \"sequential\"\n",
            "_________________________________________________________________\n",
            " Layer (type)                Output Shape              Param #   \n",
            "=================================================================\n",
            " conv2d (Conv2D)             (None, 148, 148, 64)      1792      \n",
            "                                                                 \n",
            " max_pooling2d (MaxPooling2D  (None, 74, 74, 64)       0         \n",
            " )                                                               \n",
            "                                                                 \n",
            " conv2d_1 (Conv2D)           (None, 72, 72, 64)        36928     \n",
            "                                                                 \n",
            " max_pooling2d_1 (MaxPooling  (None, 36, 36, 64)       0         \n",
            " 2D)                                                             \n",
            "                                                                 \n",
            " conv2d_2 (Conv2D)           (None, 34, 34, 128)       73856     \n",
            "                                                                 \n",
            " max_pooling2d_2 (MaxPooling  (None, 17, 17, 128)      0         \n",
            " 2D)                                                             \n",
            "                                                                 \n",
            " conv2d_3 (Conv2D)           (None, 15, 15, 128)       147584    \n",
            "                                                                 \n",
            " max_pooling2d_3 (MaxPooling  (None, 7, 7, 128)        0         \n",
            " 2D)                                                             \n",
            "                                                                 \n",
            " flatten (Flatten)           (None, 6272)              0         \n",
            "                                                                 \n",
            " dropout (Dropout)           (None, 6272)              0         \n",
            "                                                                 \n",
            " dense (Dense)               (None, 512)               3211776   \n",
            "                                                                 \n",
            " dense_1 (Dense)             (None, 6)                 3078      \n",
            "                                                                 \n",
            "=================================================================\n",
            "Total params: 3,475,014\n",
            "Trainable params: 3,475,014\n",
            "Non-trainable params: 0\n",
            "_________________________________________________________________\n"
          ]
        }
      ],
      "source": [
        "import tensorflow as tf\n",
        "\n",
        "model = tf.keras.models.Sequential([\n",
        "    # Note the input shape is the desired size of the image 150x150 with 3 bytes color\n",
        "    # This is the first convolution\n",
        "    tf.keras.layers.Conv2D(64, (3,3), activation='relu', input_shape=(150, 150, 3)),\n",
        "    tf.keras.layers.MaxPooling2D(2, 2),\n",
        "    # The second convolution\n",
        "    tf.keras.layers.Conv2D(64, (3,3), activation='relu'),\n",
        "    tf.keras.layers.MaxPooling2D(2,2),\n",
        "    # The third convolution\n",
        "    tf.keras.layers.Conv2D(128, (3,3), activation='relu'),\n",
        "    tf.keras.layers.MaxPooling2D(2,2),\n",
        "    # The fourth convolution\n",
        "    tf.keras.layers.Conv2D(128, (3,3), activation='relu'),\n",
        "    tf.keras.layers.MaxPooling2D(2,2),\n",
        "    # Flatten the results to feed into a DNN\n",
        "    tf.keras.layers.Flatten(),\n",
        "    tf.keras.layers.Dropout(0.5),\n",
        "    # 512 neuron hidden layer\n",
        "    tf.keras.layers.Dense(512, activation='relu'),\n",
        "    tf.keras.layers.Dense(6, activation='softmax')\n",
        "])\n",
        "\n",
        "# Print the model summary\n",
        "model.summary()"
      ]
    },
    {
      "cell_type": "code",
      "execution_count": null,
      "metadata": {
        "id": "3LSi_U1dKR0Y"
      },
      "outputs": [],
      "source": [
        "# Compile the model\n",
        "model.compile(loss = 'categorical_crossentropy', optimizer='adam', metrics=['accuracy'])"
      ]
    },
    {
      "cell_type": "markdown",
      "metadata": {
        "id": "ygiPysMqtDL6"
      },
      "source": [
        "Define Callbacks\n"
      ]
    },
    {
      "cell_type": "code",
      "execution_count": null,
      "metadata": {
        "id": "nmMPg1VxYxEB"
      },
      "outputs": [],
      "source": [
        "ACCURACY_THRESHOLD = 0.95\n",
        "LOSS_THRESHOLD = 0.09\n",
        "\n",
        "class myCallback(tf.keras.callbacks.Callback):\n",
        "    def on_epoch_end(self, epoch, logs={}):\n",
        "        if(logs.get('loss') < LOSS_THRESHOLD):\n",
        "            print(\"\\nLoss is lower than 0.09 so stopping training!\")\n",
        "            self.model.stop_training = True\n",
        "\n",
        "callbacks = myCallback()"
      ]
    },
    {
      "cell_type": "markdown",
      "metadata": {
        "id": "kVIxu04hKgrX"
      },
      "source": [
        "### Prepare Image Data Generator For Train Model\n"
      ]
    },
    {
      "cell_type": "code",
      "execution_count": null,
      "metadata": {
        "colab": {
          "base_uri": "https://localhost:8080/"
        },
        "id": "dyuWnJyDKZbs",
        "outputId": "2ce58ead-7a4e-47cc-f0a6-d9705a36fb86"
      },
      "outputs": [
        {
          "name": "stdout",
          "output_type": "stream",
          "text": [
            "Found 10911 images belonging to 6 classes.\n",
            "Found 2698 images belonging to 6 classes.\n"
          ]
        }
      ],
      "source": [
        "from tensorflow.keras.preprocessing.image import ImageDataGenerator\n",
        "\n",
        "TRAINING_DIR = \"/content/drive/MyDrive/Capstone Bangkit/dataset/train\"\n",
        "training_datagen = ImageDataGenerator(rescale = 1./255)\n",
        "\n",
        "VALIDATION_DIR = \"/content/drive/MyDrive/Capstone Bangkit/dataset/test\"\n",
        "validation_datagen = ImageDataGenerator(rescale = 1./255)\n",
        "\n",
        "train_generator = training_datagen.flow_from_directory(\n",
        "\tTRAINING_DIR,\n",
        "\ttarget_size=(150,150),\n",
        "\tclass_mode='categorical',\n",
        "  batch_size=126,\n",
        "\tshuffle=True\n",
        ")\n",
        "\n",
        "validation_generator = validation_datagen.flow_from_directory(\n",
        "\tVALIDATION_DIR,\n",
        "\ttarget_size=(150,150),\n",
        "\tclass_mode='categorical',\n",
        "  batch_size=126,\n",
        "\tshuffle=True\n",
        ")"
      ]
    },
    {
      "cell_type": "code",
      "execution_count": null,
      "metadata": {
        "colab": {
          "base_uri": "https://localhost:8080/"
        },
        "id": "O__-dvVRtNhv",
        "outputId": "2c4353dd-8238-46ec-ef5d-a43c8f7960bc"
      },
      "outputs": [
        {
          "data": {
            "text/plain": [
              "{'freshapples': 0,\n",
              " 'freshbanana': 1,\n",
              " 'freshoranges': 2,\n",
              " 'rottenapples': 3,\n",
              " 'rottenbanana': 4,\n",
              " 'rottenoranges': 5}"
            ]
          },
          "execution_count": 9,
          "metadata": {},
          "output_type": "execute_result"
        }
      ],
      "source": [
        "train_generator.class_indices"
      ]
    },
    {
      "cell_type": "code",
      "execution_count": null,
      "metadata": {
        "colab": {
          "base_uri": "https://localhost:8080/"
        },
        "id": "epb69nzPtOFn",
        "outputId": "acc79f76-a140-43de-e61b-851b7e25779f"
      },
      "outputs": [
        {
          "data": {
            "text/plain": [
              "{'freshapples': 0,\n",
              " 'freshbanana': 1,\n",
              " 'freshoranges': 2,\n",
              " 'rottenapples': 3,\n",
              " 'rottenbanana': 4,\n",
              " 'rottenoranges': 5}"
            ]
          },
          "execution_count": 10,
          "metadata": {},
          "output_type": "execute_result"
        }
      ],
      "source": [
        "validation_generator.class_indices"
      ]
    },
    {
      "cell_type": "code",
      "execution_count": null,
      "metadata": {
        "id": "eUZjmAW0tRLo"
      },
      "outputs": [],
      "source": [
        "NUM_TRAIN_DATA = train_generator.n\n",
        "NUM_VALID_DATA = validation_generator.n"
      ]
    },
    {
      "cell_type": "markdown",
      "metadata": {
        "id": "c6-_QrXuLAUM"
      },
      "source": [
        "# Train and Evaluate the model"
      ]
    },
    {
      "cell_type": "code",
      "execution_count": null,
      "metadata": {
        "colab": {
          "base_uri": "https://localhost:8080/"
        },
        "id": "8Xn0mhshK6eH",
        "outputId": "3c41c3f9-e45f-439c-da1c-6531b71aa18a"
      },
      "outputs": [
        {
          "output_type": "stream",
          "name": "stdout",
          "text": [
            "Epoch 1/25\n",
            "20/20 [==============================] - 1310s 69s/step - loss: 0.5503 - accuracy: 0.8083 - val_loss: 0.4333 - val_accuracy: 0.8624\n",
            "Epoch 2/25\n",
            "20/20 [==============================] - 819s 42s/step - loss: 0.4114 - accuracy: 0.8575 - val_loss: 0.3462 - val_accuracy: 0.8730\n",
            "Epoch 3/25\n",
            "20/20 [==============================] - 628s 32s/step - loss: 0.3802 - accuracy: 0.8671 - val_loss: 0.3146 - val_accuracy: 0.8995\n",
            "Epoch 4/25\n",
            "20/20 [==============================] - 510s 26s/step - loss: 0.2900 - accuracy: 0.8984 - val_loss: 0.3093 - val_accuracy: 0.8836\n",
            "Epoch 5/25\n",
            "20/20 [==============================] - 389s 19s/step - loss: 0.2943 - accuracy: 0.8933 - val_loss: 0.2383 - val_accuracy: 0.9153\n",
            "Epoch 6/25\n",
            "20/20 [==============================] - 294s 15s/step - loss: 0.2629 - accuracy: 0.9063 - val_loss: 0.2814 - val_accuracy: 0.8889\n",
            "Epoch 7/25\n",
            "20/20 [==============================] - 256s 13s/step - loss: 0.2480 - accuracy: 0.9071 - val_loss: 0.1868 - val_accuracy: 0.9392\n",
            "Epoch 8/25\n",
            "20/20 [==============================] - 191s 10s/step - loss: 0.2116 - accuracy: 0.9250 - val_loss: 0.2196 - val_accuracy: 0.9180\n",
            "Epoch 9/25\n",
            "20/20 [==============================] - 155s 8s/step - loss: 0.2048 - accuracy: 0.9282 - val_loss: 0.1581 - val_accuracy: 0.9524\n",
            "Epoch 10/25\n",
            "20/20 [==============================] - 130s 7s/step - loss: 0.1901 - accuracy: 0.9317 - val_loss: 0.1382 - val_accuracy: 0.9365\n",
            "Epoch 11/25\n",
            "20/20 [==============================] - 109s 6s/step - loss: 0.1692 - accuracy: 0.9357 - val_loss: 0.1077 - val_accuracy: 0.9656\n",
            "Epoch 12/25\n",
            "20/20 [==============================] - 71s 4s/step - loss: 0.1572 - accuracy: 0.9421 - val_loss: 0.1986 - val_accuracy: 0.9286\n",
            "Epoch 13/25\n",
            "20/20 [==============================] - 72s 4s/step - loss: 0.1415 - accuracy: 0.9484 - val_loss: 0.1266 - val_accuracy: 0.9497\n",
            "Epoch 14/25\n",
            "20/20 [==============================] - 51s 3s/step - loss: 0.1367 - accuracy: 0.9476 - val_loss: 0.1326 - val_accuracy: 0.9418\n",
            "Epoch 15/25\n",
            "20/20 [==============================] - 56s 3s/step - loss: 0.1416 - accuracy: 0.9540 - val_loss: 0.1277 - val_accuracy: 0.9550\n",
            "Epoch 16/25\n",
            "20/20 [==============================] - 42s 2s/step - loss: 0.1388 - accuracy: 0.9546 - val_loss: 0.0822 - val_accuracy: 0.9577\n",
            "Epoch 17/25\n",
            "20/20 [==============================] - 26s 1s/step - loss: 0.1404 - accuracy: 0.9484 - val_loss: 0.1419 - val_accuracy: 0.9444\n",
            "Epoch 18/25\n",
            "20/20 [==============================] - 31s 2s/step - loss: 0.1251 - accuracy: 0.9556 - val_loss: 0.0850 - val_accuracy: 0.9656\n",
            "Epoch 19/25\n",
            "20/20 [==============================] - 28s 1s/step - loss: 0.1193 - accuracy: 0.9528 - val_loss: 0.0723 - val_accuracy: 0.9735\n",
            "Epoch 20/25\n",
            "20/20 [==============================] - 24s 1s/step - loss: 0.1269 - accuracy: 0.9544 - val_loss: 0.2241 - val_accuracy: 0.9074\n",
            "Epoch 21/25\n",
            "20/20 [==============================] - 23s 1s/step - loss: 0.1090 - accuracy: 0.9571 - val_loss: 0.1302 - val_accuracy: 0.9577\n",
            "Epoch 22/25\n",
            "20/20 [==============================] - ETA: 0s - loss: 0.0742 - accuracy: 0.9714\n",
            "Loss is lower than 0.09 so stopping training!\n",
            "20/20 [==============================] - 20s 1s/step - loss: 0.0742 - accuracy: 0.9714 - val_loss: 0.0627 - val_accuracy: 0.9762\n"
          ]
        }
      ],
      "source": [
        "# Train the model\n",
        "history = model.fit(train_generator, epochs=25, steps_per_epoch=20, validation_data = validation_generator, verbose = 1, validation_steps=3, callbacks=[callbacks])"
      ]
    },
    {
      "cell_type": "code",
      "execution_count": null,
      "metadata": {
        "colab": {
          "base_uri": "https://localhost:8080/"
        },
        "id": "NvirjcaBtdZp",
        "outputId": "c8e601fa-0ef7-4724-d90f-bd4f840a2666"
      },
      "outputs": [
        {
          "output_type": "stream",
          "name": "stdout",
          "text": [
            "87/87 [==============================] - 68s 784ms/step - loss: 0.0441 - accuracy: 0.9847\n",
            "Loss: 0.0441\n",
            "Accuracy: 0.9847\n"
          ]
        }
      ],
      "source": [
        "score = model.evaluate(train_generator)\n",
        "\n",
        "print('Loss: {:.4f}'.format(score[0]))\n",
        "print('Accuracy: {:.4f}'.format(score[1]))"
      ]
    },
    {
      "cell_type": "code",
      "execution_count": null,
      "metadata": {
        "colab": {
          "base_uri": "https://localhost:8080/"
        },
        "id": "HFX-VhnRtfQx",
        "outputId": "5946c300-db76-41e8-c26d-c64b251f1678"
      },
      "outputs": [
        {
          "output_type": "stream",
          "name": "stdout",
          "text": [
            "22/22 [==============================] - 28s 1s/step - loss: 0.0747 - accuracy: 0.9711\n",
            "Loss: 0.0747\n",
            "Accuracy: 0.9711\n"
          ]
        }
      ],
      "source": [
        "score = model.evaluate(validation_generator)\n",
        "\n",
        "print('Loss: {:.4f}'.format(score[0]))\n",
        "print('Accuracy: {:.4f}'.format(score[1]))"
      ]
    },
    {
      "cell_type": "code",
      "execution_count": null,
      "metadata": {
        "colab": {
          "base_uri": "https://localhost:8080/",
          "height": 904
        },
        "id": "r7w7QBAILDLF",
        "outputId": "d08b5242-83c4-4b22-a5b3-43fb2f982a7e"
      },
      "outputs": [
        {
          "output_type": "display_data",
          "data": {
            "text/plain": [
              "<Figure size 640x480 with 1 Axes>"
            ],
            "image/png": "[encoded data removed]"
          },
          "metadata": {}
        },
        {
          "output_type": "display_data",
          "data": {
            "text/plain": [
              "<Figure size 640x480 with 1 Axes>"
            ],
            "image/png": "[encoded data removed]"
          },
          "metadata": {}
        },
        {
          "output_type": "display_data",
          "data": {
            "text/plain": [
              "<Figure size 640x480 with 0 Axes>"
            ]
          },
          "metadata": {}
        }
      ],
      "source": [
        "import matplotlib.pyplot as plt\n",
        "\n",
        "# Plot the results\n",
        "acc = history.history['accuracy']\n",
        "val_acc = history.history['val_accuracy']\n",
        "loss = history.history['loss']\n",
        "val_loss = history.history['val_loss']\n",
        "\n",
        "epochs = range(len(acc))\n",
        "\n",
        "plt.plot(epochs, acc, 'r', label='Training accuracy')\n",
        "plt.plot(epochs, val_acc, 'b', label='Validation accuracy')\n",
        "plt.title('Training and validation accuracy')\n",
        "plt.legend(loc=0)\n",
        "plt.figure()\n",
        "\n",
        "\n",
        "plt.plot(epochs, loss, 'r', label='Training Loss')\n",
        "plt.plot(epochs, val_loss, 'b', label='Validation Loss')\n",
        "plt.title('Training and validation loss')\n",
        "plt.legend(loc=0)\n",
        "plt.figure()\n",
        "\n",
        "plt.show()"
      ]
    },
    {
      "cell_type": "markdown",
      "metadata": {
        "id": "UCKkz7AQZowt"
      },
      "source": [
        "### Testing the Model\n"
      ]
    },
    {
      "cell_type": "code",
      "execution_count": null,
      "metadata": {
        "id": "ZvykcB-OZuJ9",
        "colab": {
          "base_uri": "https://localhost:8080/",
          "height": 125
        },
        "outputId": "921c8dfc-d3b4-45a5-82cc-95272c377bff"
      },
      "outputs": [
        {
          "output_type": "display_data",
          "data": {
            "text/plain": [
              "<IPython.core.display.HTML object>"
            ],
            "text/html": [
              "\n",
              "     <input type=\"file\" id=\"files-a5e67bb4-ed16-47ee-997b-dc08fc8d3662\" name=\"files[]\" multiple disabled\n",
              "        style=\"border:none\" />\n",
              "     <output id=\"result-a5e67bb4-ed16-47ee-997b-dc08fc8d3662\">\n",
              "      Upload widget is only available when the cell has been executed in the\n",
              "      current browser session. Please rerun this cell to enable.\n",
              "      </output>\n",
              "      <script>// Copyright 2017 Google LLC\n",
              "//\n",
              "// Licensed under the Apache License, Version 2.0 (the \"License\");\n",
              "// you may not use this file except in compliance with the License.\n",
              "// You may obtain a copy of the License at\n",
              "//\n",
              "//      http://www.apache.org/licenses/LICENSE-2.0\n",
              "//\n",
              "// Unless required by applicable law or agreed to in writing, software\n",
              "// distributed under the License is distributed on an \"AS IS\" BASIS,\n",
              "// WITHOUT WARRANTIES OR CONDITIONS OF ANY KIND, either express or implied.\n",
              "// See the License for the specific language governing permissions and\n",
              "// limitations under the License.\n",
              "\n",
              "/**\n",
              " * @fileoverview Helpers for google.colab Python module.\n",
              " */\n",
              "(function(scope) {\n",
              "function span(text, styleAttributes = {}) {\n",
              "  const element = document.createElement('span');\n",
              "  element.textContent = text;\n",
              "  for (const key of Object.keys(styleAttributes)) {\n",
              "    element.style[key] = styleAttributes[key];\n",
              "  }\n",
              "  return element;\n",
              "}\n",
              "\n",
              "// Max number of bytes which will be uploaded at a time.\n",
              "const MAX_PAYLOAD_SIZE = 100 * 1024;\n",
              "\n",
              "function _uploadFiles(inputId, outputId) {\n",
              "  const steps = uploadFilesStep(inputId, outputId);\n",
              "  const outputElement = document.getElementById(outputId);\n",
              "  // Cache steps on the outputElement to make it available for the next call\n",
              "  // to uploadFilesContinue from Python.\n",
              "  outputElement.steps = steps;\n",
              "\n",
              "  return _uploadFilesContinue(outputId);\n",
              "}\n",
              "\n",
              "// This is roughly an async generator (not supported in the browser yet),\n",
              "// where there are multiple asynchronous steps and the Python side is going\n",
              "// to poll for completion of each step.\n",
              "// This uses a Promise to block the python side on completion of each step,\n",
              "// then passes the result of the previous step as the input to the next step.\n",
              "function _uploadFilesContinue(outputId) {\n",
              "  const outputElement = document.getElementById(outputId);\n",
              "  const steps = outputElement.steps;\n",
              "\n",
              "  const next = steps.next(outputElement.lastPromiseValue);\n",
              "  return Promise.resolve(next.value.promise).then((value) => {\n",
              "    // Cache the last promise value to make it available to the next\n",
              "    // step of the generator.\n",
              "    outputElement.lastPromiseValue = value;\n",
              "    return next.value.response;\n",
              "  });\n",
              "}\n",
              "\n",
              "/**\n",
              " * Generator function which is called between each async step of the upload\n",
              " * process.\n",
              " * @param {string} inputId Element ID of the input file picker element.\n",
              " * @param {string} outputId Element ID of the output display.\n",
              " * @return {!Iterable<!Object>} Iterable of next steps.\n",
              " */\n",
              "function* uploadFilesStep(inputId, outputId) {\n",
              "  const inputElement = document.getElementById(inputId);\n",
              "  inputElement.disabled = false;\n",
              "\n",
              "  const outputElement = document.getElementById(outputId);\n",
              "  outputElement.innerHTML = '';\n",
              "\n",
              "  const pickedPromise = new Promise((resolve) => {\n",
              "    inputElement.addEventListener('change', (e) => {\n",
              "      resolve(e.target.files);\n",
              "    });\n",
              "  });\n",
              "\n",
              "  const cancel = document.createElement('button');\n",
              "  inputElement.parentElement.appendChild(cancel);\n",
              "  cancel.textContent = 'Cancel upload';\n",
              "  const cancelPromise = new Promise((resolve) => {\n",
              "    cancel.onclick = () => {\n",
              "      resolve(null);\n",
              "    };\n",
              "  });\n",
              "\n",
              "  // Wait for the user to pick the files.\n",
              "  const files = yield {\n",
              "    promise: Promise.race([pickedPromise, cancelPromise]),\n",
              "    response: {\n",
              "      action: 'starting',\n",
              "    }\n",
              "  };\n",
              "\n",
              "  cancel.remove();\n",
              "\n",
              "  // Disable the input element since further picks are not allowed.\n",
              "  inputElement.disabled = true;\n",
              "\n",
              "  if (!files) {\n",
              "    return {\n",
              "      response: {\n",
              "        action: 'complete',\n",
              "      }\n",
              "    };\n",
              "  }\n",
              "\n",
              "  for (const file of files) {\n",
              "    const li = document.createElement('li');\n",
              "    li.append(span(file.name, {fontWeight: 'bold'}));\n",
              "    li.append(span(\n",
              "        `(${file.type || 'n/a'}) - ${file.size} bytes, ` +\n",
              "        `last modified: ${\n",
              "            file.lastModifiedDate ? file.lastModifiedDate.toLocaleDateString() :\n",
              "                                    'n/a'} - `));\n",
              "    const percent = span('0% done');\n",
              "    li.appendChild(percent);\n",
              "\n",
              "    outputElement.appendChild(li);\n",
              "\n",
              "    const fileDataPromise = new Promise((resolve) => {\n",
              "      const reader = new FileReader();\n",
              "      reader.onload = (e) => {\n",
              "        resolve(e.target.result);\n",
              "      };\n",
              "      reader.readAsArrayBuffer(file);\n",
              "    });\n",
              "    // Wait for the data to be ready.\n",
              "    let fileData = yield {\n",
              "      promise: fileDataPromise,\n",
              "      response: {\n",
              "        action: 'continue',\n",
              "      }\n",
              "    };\n",
              "\n",
              "    // Use a chunked sending to avoid message size limits. See b/62115660.\n",
              "    let position = 0;\n",
              "    do {\n",
              "      const length = Math.min(fileData.byteLength - position, MAX_PAYLOAD_SIZE);\n",
              "      const chunk = new Uint8Array(fileData, position, length);\n",
              "      position += length;\n",
              "\n",
              "      const base64 = btoa(String.fromCharCode.apply(null, chunk));\n",
              "      yield {\n",
              "        response: {\n",
              "          action: 'append',\n",
              "          file: file.name,\n",
              "          data: base64,\n",
              "        },\n",
              "      };\n",
              "\n",
              "      let percentDone = fileData.byteLength === 0 ?\n",
              "          100 :\n",
              "          Math.round((position / fileData.byteLength) * 100);\n",
              "      percent.textContent = `${percentDone}% done`;\n",
              "\n",
              "    } while (position < fileData.byteLength);\n",
              "  }\n",
              "\n",
              "  // All done.\n",
              "  yield {\n",
              "    response: {\n",
              "      action: 'complete',\n",
              "    }\n",
              "  };\n",
              "}\n",
              "\n",
              "scope.google = scope.google || {};\n",
              "scope.google.colab = scope.google.colab || {};\n",
              "scope.google.colab._files = {\n",
              "  _uploadFiles,\n",
              "  _uploadFilesContinue,\n",
              "};\n",
              "})(self);\n",
              "</script> "
            ]
          },
          "metadata": {}
        },
        {
          "output_type": "stream",
          "name": "stdout",
          "text": [
            "Saving jerusk busuk.jpeg to jerusk busuk.jpeg\n",
            "1/1 [==============================] - 0s 18ms/step\n",
            "jerusk busuk.jpeg\n",
            "[[0. 0. 1. 0. 0. 0.]]\n"
          ]
        }
      ],
      "source": [
        "## NOTE: If you are using Safari and this cell throws an error,\n",
        "## please skip this block and run the next one instead.\n",
        "\n",
        "import numpy as np\n",
        "from google.colab import files\n",
        "from tensorflow.keras.utils import load_img, img_to_array\n",
        "\n",
        "uploaded = files.upload()\n",
        "\n",
        "for fn in uploaded.keys():\n",
        "\n",
        "  # predicting images\n",
        "  path = fn\n",
        "  img = load_img(path, target_size=(150, 150))\n",
        "  x = img_to_array(img)\n",
        "  x = np.expand_dims(x, axis=0)\n",
        "\n",
        "  images = np.vstack([x])\n",
        "  classes = model.predict(images, batch_size=10)\n",
        "  print(fn)\n",
        "  print(classes)"
      ]
    },
    {
      "cell_type": "markdown",
      "metadata": {
        "id": "A8r8MI6tZ8Pn"
      },
      "source": [
        "### Convert model to H5\n"
      ]
    },
    {
      "cell_type": "code",
      "execution_count": null,
      "metadata": {
        "id": "Z3DEB6mKZ__H"
      },
      "outputs": [],
      "source": [
        "from tensorflow import keras\n",
        "model.save()"
      ]
    },
    {
      "cell_type": "code",
      "source": [],
      "metadata": {
        "id": "yaHG9yiO66Ml"
      },
      "execution_count": null,
      "outputs": []
    }
  ],
  "metadata": {
    "accelerator": "GPU",
    "colab": {
      "provenance": []
    },
    "gpuClass": "standard",
    "kernelspec": {
      "display_name": "Python 3",
      "name": "python3"
    },
    "language_info": {
      "name": "python"
    }
  },
  "nbformat": 4,
  "nbformat_minor": 0
}